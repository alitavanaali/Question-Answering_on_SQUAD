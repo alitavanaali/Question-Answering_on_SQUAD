{
  "nbformat": 4,
  "nbformat_minor": 0,
  "metadata": {
    "accelerator": "GPU",
    "colab": {
      "name": "NLPProjectBERT_base_finetune.ipynb",
      "provenance": [],
      "collapsed_sections": [],
      "toc_visible": true,
      "machine_shape": "hm"
    },
    "kernelspec": {
      "display_name": "Python 3",
      "language": "python",
      "name": "python3"
    },
    "language_info": {
      "codemirror_mode": {
        "name": "ipython",
        "version": 3
      },
      "file_extension": ".py",
      "mimetype": "text/x-python",
      "name": "python",
      "nbconvert_exporter": "python",
      "pygments_lexer": "ipython3",
      "version": "3.7.3"
    }
  },
  "cells": [
    {
      "cell_type": "markdown",
      "metadata": {
        "id": "KU2AaQh1eSa7"
      },
      "source": [
        "# Information\n",
        "\n",
        "*   Title: Creating a Question & Answering System\n",
        "*   Natural Language Processing - final project\n",
        "*   Professor: Paolo Torroni\n",
        "*   University of Bologna\n",
        "\n",
        "Developing Team:\n",
        "*   Ali Tavana (ali.tavana@studio.unibo.it\n",
        "*   Saeid Amirhaftehran (saeid.amirhaftehran@studio.unibo.it)\n",
        "\n"
      ]
    },
    {
      "cell_type": "markdown",
      "metadata": {
        "id": "T5n2SdZl3HgX"
      },
      "source": [
        "**NOTE: our final saved model (pytorch_model.bin) is available [here](https://drive.google.com/drive/folders/11Ccuvn6TFP7EPSRpKXIMozRH7Lf9mp4t?usp=sharing) to download."
      ]
    },
    {
      "cell_type": "markdown",
      "metadata": {
        "id": "KTwyR0hTKQp7"
      },
      "source": [
        "# Setting Up the Environment"
      ]
    },
    {
      "cell_type": "markdown",
      "metadata": {
        "id": "0EsIkKBeruxH"
      },
      "source": [
        "## Implementation of the packages"
      ]
    },
    {
      "cell_type": "code",
      "metadata": {
        "id": "uQTmLmVnBwgy"
      },
      "source": [
        "import os\n",
        "import torch\n",
        "import collections\n",
        "import json\n",
        "import string\n",
        "import re\n",
        "import numpy as np\n",
        "from tqdm.auto import tqdm\n",
        "import matplotlib.pyplot as plt\n",
        "plt.style.use('ggplot')"
      ],
      "execution_count": null,
      "outputs": []
    },
    {
      "cell_type": "code",
      "metadata": {
        "id": "nWbKhdfx_Li-"
      },
      "source": [
        "from google.colab import drive\n",
        "drive.mount('/content/drive')"
      ],
      "execution_count": null,
      "outputs": []
    },
    {
      "cell_type": "markdown",
      "metadata": {
        "id": "bR4aeag1sOg6"
      },
      "source": [
        "We have to install the transformers package if it's not available in our system by running code bellow:"
      ]
    },
    {
      "cell_type": "code",
      "metadata": {
        "id": "8zIX-Iq8B71H"
      },
      "source": [
        "!pip install transformers"
      ],
      "execution_count": null,
      "outputs": []
    },
    {
      "cell_type": "code",
      "metadata": {
        "id": "M1jQOVoQ22QR"
      },
      "source": [
        "from transformers import BertTokenizerFast\n",
        "import torch.nn as nn\n",
        "from transformers import BertModel,BertPreTrainedModel"
      ],
      "execution_count": null,
      "outputs": []
    },
    {
      "cell_type": "code",
      "metadata": {
        "id": "riz7gEIO7UVr"
      },
      "source": [
        "# The path of training_set.json file that we have, for us it is uploaded\n",
        "# in our google drive folder\n",
        "train_path = '/content/drive/MyDrive/Colab Notebooks/NLP/training_set.json'\n",
        "f = open(train_path,'r')\n",
        "data = json.load(f)\n",
        "f.close()"
      ],
      "execution_count": null,
      "outputs": []
    },
    {
      "cell_type": "markdown",
      "metadata": {
        "id": "U57MEeSQr_-w"
      },
      "source": [
        "# Reading the data"
      ]
    },
    {
      "cell_type": "code",
      "metadata": {
        "id": "IrISxEvKBwg2"
      },
      "source": [
        "# extract context, question, answer from original json file\n",
        "def read_data(train=True):\n",
        "\n",
        "    num_article = len(data['data'])\n",
        "    if train:\n",
        "        # 90% in train\n",
        "        temp_data = data['data'][:(9*num_article//10)]\n",
        "    else:\n",
        "        temp_data = data['data'][(9*num_article//10):]\n",
        "    \n",
        "    contexts = []\n",
        "    questions = []\n",
        "    answers = []\n",
        "    \n",
        "    for article in temp_data:\n",
        "        for p in article['paragraphs']:\n",
        "            context = p['context']\n",
        "            for qa in p['qas']:\n",
        "                question = qa['question']\n",
        "\n",
        "                contexts.append(context)\n",
        "                questions.append(question)\n",
        "                answers.append(qa['answers'][0])\n",
        "    \n",
        "    return contexts, questions, answers\n",
        "\n",
        "\n",
        "# get the end char index for answers in the context\n",
        "def add_end_idx(answers, contexts):\n",
        "\n",
        "    for answer, context in zip(answers, contexts):\n",
        "\n",
        "        gold_text = answer['text']\n",
        "        start_idx = answer['answer_start']\n",
        "        end_idx = start_idx + len(gold_text)\n",
        "\n",
        "        # sometimes squad answers are off by a character or two, so we need\n",
        "        # fix this\n",
        "        if context[start_idx:end_idx] == gold_text:\n",
        "            answer['answer_end'] = end_idx\n",
        "        elif context[start_idx-1:end_idx-1] == gold_text:\n",
        "            answer['answer_start'] = start_idx - 1\n",
        "            answer['answer_end'] = end_idx - 1     # When the gold label is off by one character\n",
        "        elif context[start_idx-2:end_idx-2] == gold_text:\n",
        "            answer['answer_start'] = start_idx - 2\n",
        "            answer['answer_end'] = end_idx - 2     # When the gold label is off by two characters"
      ],
      "execution_count": null,
      "outputs": []
    },
    {
      "cell_type": "markdown",
      "metadata": {
        "id": "s2nH0CIVP6zb"
      },
      "source": [
        "For Tokenizing our data set we Use BertTokenizerFast method of transformers Library. For these purposes we use BERT base model (Uncased). This model is uncased: it does not make a difference between english and English."
      ]
    },
    {
      "cell_type": "code",
      "metadata": {
        "id": "5g-DwEdzBwg3"
      },
      "source": [
        "# Instantiating a configuration with the defaults will yield a similar configuration\n",
        "# bert-base-uncased architecture \n",
        "# pytorch model from a pre-trained model configuration\n",
        "tokenizer = BertTokenizerFast.from_pretrained('bert-base-uncased')"
      ],
      "execution_count": null,
      "outputs": []
    },
    {
      "cell_type": "code",
      "metadata": {
        "id": "Ni8ItwbbBwg4"
      },
      "source": [
        "train_contexts, train_questions, train_answers = read_data()\n",
        "add_end_idx(train_answers, train_contexts)"
      ],
      "execution_count": null,
      "outputs": []
    },
    {
      "cell_type": "code",
      "metadata": {
        "id": "9cbscskHBwg5"
      },
      "source": [
        "# get validation data (10% of the original data)\n",
        "val_contexts, val_questions, val_answers = read_data(train=False)"
      ],
      "execution_count": null,
      "outputs": []
    },
    {
      "cell_type": "markdown",
      "metadata": {
        "id": "7c2KxFaQKoHH"
      },
      "source": [
        "# Data Analysing"
      ]
    },
    {
      "cell_type": "code",
      "metadata": {
        "id": "SwJprriyBwg3"
      },
      "source": [
        "# This method is just for plott\u001f\u001f\u001f\u001f\u001fing, nothing more\n",
        "def preprocess(contexts,questions,answers,train=True):\n",
        "    context_list = []\n",
        "    question_list = []\n",
        "\n",
        "    start_position = []\n",
        "    end_position = []\n",
        "\n",
        "    for i in tqdm(range(len(contexts))):\n",
        "        encoding = tokenizer(contexts[i])\n",
        "        token_list = tokenizer.convert_ids_to_tokens(encoding['input_ids'],skip_special_tokens=True)\n",
        "        # \"[UNK]\", The unknown token. A token that is not in the vocabulary cannot\n",
        "        # be converted to an ID and is set to be this token instead\n",
        "        context_list.append(['[UNK]']+token_list)\n",
        "        \n",
        "        if train:\n",
        "            start = encoding.char_to_token(answers[i]['answer_start'])\n",
        "            end = encoding.char_to_token(answers[i]['answer_end']-1)\n",
        "\n",
        "            start_position.append(start)\n",
        "            end_position.append(end)\n",
        "    \n",
        "    for i in tqdm(range(len(questions))):\n",
        "        encoding = tokenizer(questions[i])\n",
        "        token_list = tokenizer.convert_ids_to_tokens(encoding['input_ids'],skip_special_tokens=True)\n",
        "\n",
        "        question_list.append(token_list)\n",
        "\n",
        "    if train:\n",
        "        return context_list,question_list,start_position,end_position\n",
        "    else:\n",
        "        return context_list,question_list"
      ],
      "execution_count": null,
      "outputs": []
    },
    {
      "cell_type": "code",
      "metadata": {
        "id": "SD0sla8Ah25Z"
      },
      "source": [
        "train_context_list,train_question_list,train_start_position,train_end_position = preprocess(train_contexts,train_questions,train_answers)"
      ],
      "execution_count": null,
      "outputs": []
    },
    {
      "cell_type": "code",
      "metadata": {
        "id": "sJS8NQhIh8fk"
      },
      "source": [
        "val_context_list,val_question_list = preprocess(val_contexts,val_questions,val_answers,train=False)"
      ],
      "execution_count": null,
      "outputs": []
    },
    {
      "cell_type": "markdown",
      "metadata": {
        "id": "OguTKpxQG_p-"
      },
      "source": [
        "In this part, we want to explore our dataset to see the detailes for the next steps."
      ]
    },
    {
      "cell_type": "code",
      "metadata": {
        "id": "4VIEn-81mpon"
      },
      "source": [
        "# a method for summarising and describing the lists\n",
        "def summary_of_data(lst, name):\n",
        "  average = sum(lst) / len(lst)\n",
        "  minimum = min(lst)\n",
        "  maxaimum = max(lst)\n",
        "  print('Average of ' + name + ' is: '+ str(average))\n",
        "  print('Minimum of ' + name + ' is: '+ str(minimum))\n",
        "  print('Maximum of ' + name + ' is: '+ str(maxaimum))"
      ],
      "execution_count": null,
      "outputs": []
    },
    {
      "cell_type": "markdown",
      "metadata": {
        "id": "bKhBOtJvHpmw"
      },
      "source": [
        "## Context"
      ]
    },
    {
      "cell_type": "code",
      "metadata": {
        "colab": {
          "base_uri": "https://localhost:8080/",
          "height": 369
        },
        "id": "K7IigCdCBwg5",
        "outputId": "98af3ebe-f228-4d5c-a931-f29074523e14"
      },
      "source": [
        "# here we do our data exploration on training set\n",
        "# the first thing we are interested in is the length of context\n",
        "length_list = []\n",
        "for i in train_context_list:\n",
        "    length_list.append(len(i))\n",
        "summary_of_data(length_list, 'context list')\n",
        "plt.cla()\n",
        "plt.hist(length_list)\n",
        "plt.title('length distribution for context')\n",
        "plt.ylabel(\"number of the contexts\")\n",
        "plt.xlabel(\"number of the words\")\n",
        "plt.show()"
      ],
      "execution_count": null,
      "outputs": [
        {
          "output_type": "stream",
          "text": [
            "Average of context list is: 155.99515445955055\n",
            "Minimum of context list is: 26\n",
            "Maximum of context list is: 854\n"
          ],
          "name": "stdout"
        },
        {
          "output_type": "display_data",
          "data": {
            "image/png": "[encoded data removed]",
            "text/plain": [
              "<Figure size 432x288 with 1 Axes>"
            ]
          },
          "metadata": {
            "tags": []
          }
        }
      ]
    },
    {
      "cell_type": "markdown",
      "metadata": {
        "id": "-ZFPmPXmHxFS"
      },
      "source": [
        "## Question "
      ]
    },
    {
      "cell_type": "code",
      "metadata": {
        "colab": {
          "base_uri": "https://localhost:8080/",
          "height": 369
        },
        "id": "5g99C2hUBwg6",
        "outputId": "41cdc020-a5ec-4eff-8c44-490c4e4ecf16"
      },
      "source": [
        "length_list = []\n",
        "for i in train_question_list:\n",
        "    length_list.append(len(i))\n",
        "summary_of_data(length_list, 'question list')\n",
        "plt.cla()\n",
        "plt.hist(length_list)\n",
        "plt.title('length distribution for question')\n",
        "plt.ylabel(\"number of the questions\")\n",
        "plt.xlabel(\"number of the words\")\n",
        "plt.show()"
      ],
      "execution_count": null,
      "outputs": [
        {
          "output_type": "stream",
          "text": [
            "Average of question list is: 12.317669053402689\n",
            "Minimum of question list is: 1\n",
            "Maximum of question list is: 61\n"
          ],
          "name": "stdout"
        },
        {
          "output_type": "display_data",
          "data": {
            "image/png": "[encoded data removed]",
            "text/plain": [
              "<Figure size 432x288 with 1 Axes>"
            ]
          },
          "metadata": {
            "tags": []
          }
        }
      ]
    },
    {
      "cell_type": "markdown",
      "metadata": {
        "id": "8FO3V28KH2iP"
      },
      "source": [
        "## Question + Context"
      ]
    },
    {
      "cell_type": "code",
      "metadata": {
        "colab": {
          "base_uri": "https://localhost:8080/",
          "height": 369
        },
        "id": "uKZ3g1TiBwg6",
        "outputId": "7997fd34-6421-422d-81b8-0c03ebc6b810"
      },
      "source": [
        "length_list = []\n",
        "for i in range(len(train_question_list)):\n",
        "    length_list.append(len(train_question_list[i])+len(train_context_list[i]))\n",
        "summary_of_data(length_list, 'question + context list')\n",
        "plt.cla()\n",
        "plt.hist(length_list)\n",
        "plt.title('length distribution for question+context')\n",
        "plt.ylabel(\"number of data points\")\n",
        "plt.xlabel(\"number of words\")\n",
        "plt.show()"
      ],
      "execution_count": null,
      "outputs": [
        {
          "output_type": "stream",
          "text": [
            "Average of question + context list is: 168.31282351295323\n",
            "Minimum of question + context list is: 34\n",
            "Maximum of question + context list is: 868\n"
          ],
          "name": "stdout"
        },
        {
          "output_type": "display_data",
          "data": {
            "image/png": "[encoded data removed]",
            "text/plain": [
              "<Figure size 432x288 with 1 Axes>"
            ]
          },
          "metadata": {
            "tags": []
          }
        }
      ]
    },
    {
      "cell_type": "markdown",
      "metadata": {
        "id": "_cYSEH9eH_GS"
      },
      "source": [
        "## Answer"
      ]
    },
    {
      "cell_type": "code",
      "metadata": {
        "colab": {
          "base_uri": "https://localhost:8080/",
          "height": 369
        },
        "id": "IdDGQD0-Bwg7",
        "outputId": "c007e43c-cf97-4116-aa50-f23830b9f701"
      },
      "source": [
        "# the third thing we are interested in is the distribution of span length of answers\n",
        "# this is important because it can serve as a threshold for determine answerability\n",
        "length_list = []\n",
        "for i in train_answers:\n",
        "    start = i['answer_start']\n",
        "    end = i['answer_end']\n",
        "    if start==0 and end==0:\n",
        "        continue\n",
        "    else:        \n",
        "        length_list.append(end-start)\n",
        "summary_of_data(length_list, 'answers list')\n",
        "plt.cla()\n",
        "plt.hist(length_list)\n",
        "plt.title('span length distribution for answers')\n",
        "plt.ylabel(\"number of answers\")\n",
        "plt.xlabel(\"length of span texts\")\n",
        "plt.show()"
      ],
      "execution_count": null,
      "outputs": [
        {
          "output_type": "stream",
          "text": [
            "Average of answers list is: 20.227829426801815\n",
            "Minimum of answers list is: 1\n",
            "Maximum of answers list is: 239\n"
          ],
          "name": "stdout"
        },
        {
          "output_type": "display_data",
          "data": {
            "image/png": "[encoded data removed]",
            "text/plain": [
              "<Figure size 432x288 with 1 Axes>"
            ]
          },
          "metadata": {
            "tags": []
          }
        }
      ]
    },
    {
      "cell_type": "markdown",
      "metadata": {
        "id": "LWSv-wphXPzC"
      },
      "source": [
        "# Evaluation methods\n",
        "The two metrics we will be using are **exact match** and **F1**. The exact match metric measures the percentage of predictions that match any one of the ground truth answers **exactly**. The F1 score is a looser metric, which measures the average overlap between the prediction and ground truth answer.\n",
        "\n",
        "\n",
        "![1_EXa-_699fntpUoRjZeqAFQ.jpeg](data:image/jpeg;base64,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)\n",
        "\n",
        "\n",
        "These are then also averaged with the \"has answer\" prediction where we replace the individual question-answer pair score with a 1 if it correctly predicts that the question is not answerable, and keep the original score otherwise."
      ]
    },
    {
      "cell_type": "code",
      "metadata": {
        "id": "E2LZtRR7XVt4"
      },
      "source": [
        "def compute_exact(a_gold, a_pred):\n",
        "    # to define the exact match metrics\n",
        "    if normalize_answer(a_gold) == normalize_answer(a_pred):\n",
        "        return 1\n",
        "    else:\n",
        "        return 0\n",
        "\n",
        "\n",
        "def compute_f1(a_gold, a_pred):\n",
        "    # to define F1 score\n",
        "    gold_tokens = get_tokens(a_gold)\n",
        "    pred_tokens = get_tokens(a_pred)\n",
        "\n",
        "    common = collections.Counter(gold_tokens) & collections.Counter(pred_tokens)\n",
        "    num_same = sum(common.values())\n",
        "    # if one of ground-truth and prediction is un-answered,\n",
        "    # then F1 would be 1 if they are the same, otherwise be 0.\n",
        "    if len(gold_tokens) == 0 or len(pred_tokens) == 0:\n",
        "        if gold_tokens == pred_tokens:\n",
        "            return 1\n",
        "        else:\n",
        "            return 0\n",
        "    \n",
        "    # if both are answered, just calculate F1 using the formula given above\n",
        "    if num_same == 0:\n",
        "        return 0\n",
        "\n",
        "    precision = 1.0 * num_same / len(pred_tokens)\n",
        "    recall = 1.0 * num_same / len(gold_tokens)\n",
        "    f1 = (2.0 * precision * recall) / (precision + recall)\n",
        "    return f1"
      ],
      "execution_count": null,
      "outputs": []
    },
    {
      "cell_type": "markdown",
      "metadata": {
        "id": "mcg1eZY8K14V"
      },
      "source": [
        "# Data normalisation and preprocessing"
      ]
    },
    {
      "cell_type": "code",
      "metadata": {
        "id": "mozaNrBC3R6A"
      },
      "source": [
        "# Some potentially useful helper functions for the metrics\n",
        "def remove_articles(text):\n",
        "    regex = re.compile(r'\\b(a|an|the)\\b', re.UNICODE)\n",
        "    return re.sub(regex, ' ', text)\n",
        "\n",
        "def white_space_fix(text):\n",
        "    return ' '.join(text.split())\n",
        "\n",
        "def remove_punc(text):\n",
        "    exclude = set(string.punctuation)\n",
        "    return ''.join(ch for ch in text if ch not in exclude)\n",
        "\n",
        "def lower(text):\n",
        "    return text.lower()\n",
        "\n",
        "def normalize_answer(s):\n",
        "    \"\"\"Lower text and remove punctuation, articles and extra whitespace.\"\"\"\n",
        "    return white_space_fix(remove_articles(remove_punc(lower(s))))\n",
        "\n",
        "def get_tokens(s):\n",
        "    if not s:\n",
        "        return []\n",
        "    return normalize_answer(s).split()"
      ],
      "execution_count": null,
      "outputs": []
    },
    {
      "cell_type": "markdown",
      "metadata": {
        "id": "31e3sMHZrLWP"
      },
      "source": [
        "# BERT base"
      ]
    },
    {
      "cell_type": "markdown",
      "metadata": {
        "id": "jyNordnnqFkn"
      },
      "source": [
        "We used language representation model called BERT which stands for Bidirectional Encoder Representations from Transformers. BERT is designed to pre-train deep bidirectional representations from unlabeled text by jointly conditioning on both left and right context in all layers. As a result, the pre-trained BERT model can be fine-tuned with just one additional output layer to create state-of-the-art models for a wide range of tasks, such as question answering and language inference, without substantial task-specific architecture modifications."
      ]
    },
    {
      "cell_type": "markdown",
      "metadata": {
        "id": "KMiXNWNvNxlR"
      },
      "source": [
        "## Train Encoding"
      ]
    },
    {
      "cell_type": "code",
      "metadata": {
        "id": "1QmneoHiBwg9"
      },
      "source": [
        "# we need some additional different data preprocessing for bert finetuning\n",
        "max_length = 384\n",
        "\n",
        "train_encodings = tokenizer(train_contexts, train_questions, truncation=True, \n",
        "                            padding='max_length', max_length=max_length)\n",
        "def add_token_positions(encodings, answers):\n",
        "    start_positions = []\n",
        "    end_positions = []\n",
        "    for i in range(len(answers)):\n",
        "        if answers[i]['answer_start']==0 and answers[i]['answer_end']==0\n",
        "            start_positions.append(0)\n",
        "            end_positions.append(0)\n",
        "        else:     \n",
        "            start_positions.append(encodings.char_to_token(i, answers[i]['answer_start']))\n",
        "            end_positions.append(encodings.char_to_token(i, answers[i]['answer_end'] - 1))\n",
        "            # if None, the answer passage has been truncated\n",
        "            if start_positions[-1] is None:\n",
        "                start_positions[-1] = max_length-1\n",
        "            if end_positions[-1] is None:\n",
        "                end_positions[-1] = max_length-1\n",
        "    encodings.update({'start_positions': start_positions, 'end_positions': end_positions})\n",
        "\n",
        "add_token_positions(train_encodings, train_answers)"
      ],
      "execution_count": null,
      "outputs": []
    },
    {
      "cell_type": "markdown",
      "metadata": {
        "id": "reylszh9NmmJ"
      },
      "source": [
        "## Squad Datasets (training and validation)\n",
        "We define two classes named SquadDataset and SquadDataset_Validation for reading our data from our encoded train set and validation set. For this purposes we use torch.utils.data.Dataset library as super classes and defining its __getitem__ method and __len__ method. There is little different between these two classes that related to validation dataset. In validation data set we add real answer corresponding to its context as ‘gold_text’ into it."
      ]
    },
    {
      "cell_type": "code",
      "metadata": {
        "id": "nuSlJFZ6M81I"
      },
      "source": [
        "class SquadDataset(torch.utils.data.Dataset):\n",
        "    \n",
        "    def __init__(self, encodings):\n",
        "        self.encodings = encodings\n",
        "\n",
        "    def __getitem__(self, idx):\n",
        "        return {key: torch.tensor(val[idx]) for key, val in self.encodings.items()}\n",
        "\n",
        "    def __len__(self):\n",
        "        return len(self.encodings.input_ids)\n",
        "\n",
        "\n",
        "class SquadDataset_Validation(torch.utils.data.Dataset):\n",
        "    \n",
        "    def __init__(self, encodings, answers):\n",
        "        self.encodings = encodings\n",
        "        self.answers = answers\n",
        "\n",
        "    def __getitem__(self, idx):\n",
        "        return_dict = {key: torch.tensor(val[idx]) for key, val in self.encodings.items()}\n",
        "        return_dict['gold_text'] = self.answers[idx]['text']\n",
        "        \n",
        "        return return_dict\n",
        "\n",
        "    def __len__(self):\n",
        "        return len(self.encodings.input_ids)"
      ],
      "execution_count": null,
      "outputs": []
    },
    {
      "cell_type": "code",
      "metadata": {
        "id": "2FUi_9jmeQxM"
      },
      "source": [
        "val_encodings = tokenizer(val_contexts, val_questions, truncation=True, padding='max_length', max_length=max_length)\n",
        "\n",
        "val_dataset = SquadDataset_Validation(val_encodings, val_answers)"
      ],
      "execution_count": null,
      "outputs": []
    },
    {
      "cell_type": "markdown",
      "metadata": {
        "id": "rEEh6PUvN2xs"
      },
      "source": [
        "## Define Evaluate Method"
      ]
    },
    {
      "cell_type": "code",
      "metadata": {
        "id": "-p1H5GAFiN00"
      },
      "source": [
        "def evaluate(model, dataset):\n",
        "    # disable gradient calculation\n",
        "    with torch.no_grad():\n",
        "        model.eval()\n",
        "        device = torch.device('cuda:0') if torch.cuda.is_available() else torch.device('cpu')\n",
        "        model.to(device)\n",
        "\n",
        "        em = 0.0\n",
        "        f1 = 0.0\n",
        "\n",
        "        for i in tqdm(range(len(dataset))):\n",
        "            temp_data = dataset[i]\n",
        "            input_ids = temp_data['input_ids'].to(device).unsqueeze(0)\n",
        "            attention_mask = temp_data['attention_mask'].to(device).unsqueeze(0)\n",
        "            token_type_ids = temp_data['token_type_ids'].to(device).unsqueeze(0)\n",
        "            start_score, end_score = model.get_scores(input_ids, attention_mask=attention_mask, token_type_ids=token_type_ids)\n",
        "            \n",
        "            start_score = start_score.squeeze(0).cpu()\n",
        "            end_score = end_score.squeeze(0).cpu()\n",
        "\n",
        "            answer_start = torch.argmax(start_score).item()\n",
        "            answer_end = torch.argmax(end_score).item()\n",
        "\n",
        "            pred = ''\n",
        "            length = start_score.size(0)\n",
        "            \n",
        "            if answer_start == 0 or answer_end == 0 or answer_start==(length-1) or answer_end==(length-1):\n",
        "                pred = ''\n",
        "            \n",
        "            elif answer_end < answer_start:\n",
        "                pred = ''\n",
        "            \n",
        "            elif answer_end - answer_start > 20:\n",
        "                pred = ''\n",
        "            \n",
        "            else:\n",
        "                input_ids.cpu()\n",
        "                pred = tokenizer.decode(input_ids[0][answer_start:(answer_end+1)])\n",
        "            \n",
        "            gold_text = dataset[i]['gold_text']\n",
        "\n",
        "            em += compute_exact(gold_text,pred)\n",
        "            f1 += compute_f1(gold_text,pred)\n",
        "        \n",
        "        em /= len(dataset)\n",
        "        f1 /= len(dataset)\n",
        "\n",
        "        print('EM: %.5f'%em)\n",
        "        print('F1: %.5f'%f1)\n",
        "\n",
        "        return em, f1"
      ],
      "execution_count": null,
      "outputs": []
    },
    {
      "cell_type": "markdown",
      "metadata": {
        "id": "JlBzIRpzN-GN"
      },
      "source": [
        "## BERT Question Answering Class\n"
      ]
    },
    {
      "cell_type": "code",
      "metadata": {
        "id": "qw8bdnAeWI-L"
      },
      "source": [
        "class Bert_QA(BertPreTrainedModel):\n",
        "\n",
        "    def __init__(self, config):\n",
        "        super().__init__(config)\n",
        "        \n",
        "        self.bert = BertModel(config, add_pooling_layer=False)\n",
        "        # linear transformation\n",
        "        self.fc = nn.Linear(config.hidden_size, 2)\n",
        "        self.criterion = nn.CrossEntropyLoss()\n",
        "\n",
        "    def forward(\n",
        "        self,\n",
        "        input_ids,\n",
        "        attention_mask,\n",
        "        token_type_ids,\n",
        "        start_positions,\n",
        "        end_positions,\n",
        "    ):\n",
        "\n",
        "        outputs = self.bert(\n",
        "            input_ids,\n",
        "            attention_mask=attention_mask,\n",
        "            token_type_ids=token_type_ids,\n",
        "        )\n",
        "\n",
        "        sequence_output = outputs.last_hidden_state #[batch,length,dim]\n",
        "\n",
        "        # attention_mask [batch,length]\n",
        "        # token_type_ids [batch,length]\n",
        "\n",
        "        logits = self.fc(sequence_output) #[batch,length,2]\n",
        "        \n",
        "        context_mask = (attention_mask-token_type_ids).unsqueeze(-1) # [batch,length,1]\n",
        "        logits = logits + (context_mask + 1e-45).log()\n",
        "\n",
        "        start_logits, end_logits = logits.split(1, dim=-1) # 2*[batch,length,1]\n",
        "        start_logits = start_logits.squeeze(-1) # [batch,length]\n",
        "        end_logits = end_logits.squeeze(-1) #[batch,length]\n",
        "\n",
        "        start_loss = self.criterion(start_logits, start_positions)\n",
        "        end_loss = self.criterion(end_logits, end_positions)\n",
        "        loss = start_loss + end_loss\n",
        "\n",
        "        return loss\n",
        "    \n",
        "    \n",
        "    def get_scores(self,\n",
        "        input_ids,\n",
        "        attention_mask,\n",
        "        token_type_ids\n",
        "    ):\n",
        "\n",
        "        outputs = self.bert(\n",
        "            input_ids,\n",
        "            attention_mask=attention_mask,\n",
        "            token_type_ids=token_type_ids,\n",
        "            return_dict=True\n",
        "        )\n",
        "\n",
        "        sequence_output = outputs.last_hidden_state\n",
        "\n",
        "        logits = self.fc(sequence_output) #[batch,length,2]\n",
        "        \n",
        "        context_mask = (attention_mask-token_type_ids).unsqueeze(-1) # [batch,length,1]\n",
        "        logits = logits + (context_mask + 1e-45).log()\n",
        "\n",
        "        start_logits, end_logits = logits.split(1, dim=-1) # 2*[batch,length,1]\n",
        "        start_logits = start_logits.squeeze(-1) # [batch,length]\n",
        "        end_logits = end_logits.squeeze(-1) #[batch,length]\n",
        "\n",
        "        start_score = nn.Softmax(dim=1)(start_logits)\n",
        "        end_score = nn.Softmax(dim=1)(end_logits)\n",
        "\n",
        "        return start_score, end_score"
      ],
      "execution_count": null,
      "outputs": []
    },
    {
      "cell_type": "markdown",
      "metadata": {
        "id": "6ZfnDebeOTuc"
      },
      "source": [
        "## Training The Model\n",
        "We define our model from Bert_QA class. Using SquadDataset class that we define we read our train set then using DataLoader method of torch.utils.data library we shuffle our train set and set our batch size to 24."
      ]
    },
    {
      "cell_type": "code",
      "metadata": {
        "id": "Qvg4XZSlacW1"
      },
      "source": [
        "from torch.utils.data import DataLoader\n",
        "from transformers import AdamW\n",
        "\n",
        "torch.cuda.empty_cache()\n",
        "\n",
        "device = torch.device('cuda:0') if torch.cuda.is_available() else torch.device('cpu')\n",
        "\n",
        "model = Bert_QA.from_pretrained('bert-base-uncased')\n",
        "model.to(device)\n",
        "# To train the model, we should first set it back in training mode\n",
        "model.train()\n",
        "\n",
        "train_dataset = SquadDataset(train_encodings)\n",
        "train_loader = DataLoader(train_dataset, batch_size=24, shuffle=True, drop_last=True)\n",
        "# We define our optimization as AdamW which takes it parameter from \n",
        "# pre trained uncased Bert model. The AdamW optimizer decouples the \n",
        "# weight decay from the optimization step. This means that the weight \n",
        "# decay and learning rate can be optimized separately, i.e., changing \n",
        "# the learning rate does not change the optimal weight decay. \n",
        "# and finally, we set our learning rate to 3e-5.\n",
        "optim = AdamW(model.parameters(), lr=3e-5)\n",
        "\n",
        "iter_counter = 0\n",
        "best_f1 = 0\n",
        "avg_loss = 0\n",
        "\n",
        "for epoch in range(3):\n",
        "    print('epoch %d start!'%(epoch+1))\n",
        "    for batch in train_loader:\n",
        "        # We use optim.zero_grad() to sets the gradients of all \n",
        "        # optimized torch.Tensor to zero.\n",
        "        optim.zero_grad()\n",
        "        input_ids = batch['input_ids'].to(device)\n",
        "        attention_mask = batch['attention_mask'].to(device)\n",
        "        start_positions = batch['start_positions'].to(device)\n",
        "        end_positions = batch['end_positions'].to(device)\n",
        "        token_type_ids = batch['token_type_ids'].to(device)\n",
        "        loss = model(input_ids, attention_mask=attention_mask, start_positions=start_positions,\n",
        "                     end_positions=end_positions, token_type_ids=token_type_ids)\n",
        "        # computes dloss/dx for every parameter x which has requires_grad=True \n",
        "        # these are accumulated into x.grad for every parameter x.\n",
        "        loss.backward()\n",
        "        # is performs a parameter update based on the current gradient (stored \n",
        "        # in . grad attribute of a parameter) and the update rule.\n",
        "        # backward() multiple times accumulates the gradient (by addition) \n",
        "        # for each parameter.\n",
        "        optim.step()\n",
        "\n",
        "        iter_counter += 1\n",
        "\n",
        "        avg_loss += loss.item()\n",
        "\n",
        "        if iter_counter%100 == 0:\n",
        "            avg_loss /= 100\n",
        "            print('iter %d'%iter_counter)\n",
        "            print('loss %.5f'%avg_loss)\n",
        "            avg_loss = 0\n",
        "            print()\n",
        "        if iter_counter%2000 == 0:\n",
        "            em,f1 = evaluate(model,val_dataset)\n",
        "            model.train()\n",
        "            if f1>best_f1:\n",
        "                best_f1 = f1\n",
        "                model.save_pretrained('/content/drive/MyDrive/Colab Notebooks/NLP/v2/bert_qa_model_uncased')\n",
        "                print('best model!')\n",
        "            print()\n",
        "    print('epoch %d finish!'%(epoch+1))"
      ],
      "execution_count": null,
      "outputs": []
    },
    {
      "cell_type": "markdown",
      "metadata": {
        "id": "pLCJK3wlO-lA"
      },
      "source": [
        "## Evaluate the final Results\n",
        "after running the previous code, here use our generated model file to evaluate."
      ]
    },
    {
      "cell_type": "code",
      "metadata": {
        "id": "s6pwVPBddu0U",
        "colab": {
          "base_uri": "https://localhost:8080/"
        },
        "outputId": "239747ee-aee7-4955-a85c-c4349ea0c3a4"
      },
      "source": [
        "device = torch.device('cuda') if torch.cuda.is_available() else torch.device('cpu')\n",
        "model_bert = Bert_QA.from_pretrained('/content/drive/MyDrive/Colab Notebooks/NLP/v2/bert_qa_model_uncased', )\n",
        "model_bert.to(device)\n",
        "model_bert.eval()\n",
        "evaluate(model_bert, val_dataset)"
      ],
      "execution_count": null,
      "outputs": [
        {
          "output_type": "stream",
          "text": [
            "EM: 0.57551\n",
            "F1: 0.72475\n"
          ],
          "name": "stdout"
        }
      ]
    },
    {
      "cell_type": "code",
      "metadata": {
        "id": "D159LRemgfib"
      },
      "source": [
        "def online_predict(question, context):\n",
        "    device = torch.device('cuda:0') if torch.cuda.is_available() else torch.device('cpu')\n",
        "    with torch.no_grad():\n",
        "        temp_encoding = tokenizer(context,question,truncation=True,padding=True)\n",
        "        input_ids = torch.LongTensor(temp_encoding['input_ids']).unsqueeze(0).to(device)\n",
        "        token_type_ids = torch.LongTensor(temp_encoding['token_type_ids']).unsqueeze(0).to(device)\n",
        "        attention_mask = torch.LongTensor(temp_encoding['attention_mask']).unsqueeze(0).to(device)\n",
        "\n",
        "        start_score, end_score = model_bert.get_scores(input_ids, attention_mask=attention_mask, token_type_ids=token_type_ids)\n",
        "\n",
        "        start_score = start_score.squeeze(0).cpu()\n",
        "        end_score = end_score.squeeze(0).cpu()\n",
        "\n",
        "        answer_start = torch.argmax(start_score).item()\n",
        "        answer_end = torch.argmax(end_score).item()\n",
        "\n",
        "        pred = ''\n",
        "        length = start_score.size(0)\n",
        "\n",
        "        if answer_start == 0 or answer_end == 0 or answer_start==(length-1) or answer_end==(length-1):\n",
        "            pred = ''\n",
        "\n",
        "        elif answer_end < answer_start:\n",
        "            pred = ''\n",
        "\n",
        "        elif answer_end - answer_start > 20:\n",
        "            pred = ''\n",
        "\n",
        "        else:\n",
        "            input_ids.cpu()\n",
        "            pred = tokenizer.decode(input_ids[0][answer_start:(answer_end+1)])\n",
        "\n",
        "        return pred, True"
      ],
      "execution_count": null,
      "outputs": []
    },
    {
      "cell_type": "markdown",
      "metadata": {
        "id": "m_eDwiILvHGL"
      },
      "source": [
        "## Results on Validation set\n"
      ]
    },
    {
      "cell_type": "code",
      "metadata": {
        "colab": {
          "base_uri": "https://localhost:8080/"
        },
        "id": "1lkcdvvquwT5",
        "outputId": "42ca5ea3-dd54-4f73-a9dc-1c2aad9a9435"
      },
      "source": [
        "for i in range(20):\n",
        "    index = np.random.randint(len(val_contexts))\n",
        "    c = val_contexts[index]\n",
        "    q = val_questions[index]\n",
        "    p_bert,_ = online_predict(q,c)\n",
        "    print('context:')\n",
        "    print(c)\n",
        "    print('question:')\n",
        "    print(q)\n",
        "    print('gold answer: %s'%val_answers[index]['text'])\n",
        "    print('bert answer: %s'%p_bert)\n",
        "    print()"
      ],
      "execution_count": null,
      "outputs": [
        {
          "output_type": "stream",
          "text": [
            "context:\n",
            "Theologus Autodidactus, written by the Arabian polymath Ibn al-Nafis (1213–1288), is the first example of a science fiction novel. It deals with various science fiction elements such as spontaneous generation, futurology, the end of the world and doomsday, resurrection, and the afterlife. Rather than giving supernatural or mythological explanations for these events, Ibn al-Nafis attempted to explain these plot elements using the scientific knowledge of biology, astronomy, cosmology and geology known in his time. Ibn al-Nafis' fiction explained Islamic religious teachings via science and Islamic philosophy.\n",
            "question:\n",
            "What type of book is Theologus Autodidactus the first type of?\n",
            "gold answer: science fiction\n",
            "bert answer: science fiction novel\n",
            "\n",
            "context:\n",
            "Puritans were blocked from changing the established church from within, and were severely restricted in England by laws controlling the practice of religion. Their beliefs, however, were transported by the emigration of congregations to the Netherlands (and later to New England), and by evangelical clergy to Ireland (and later into Wales), and were spread into lay society and parts of the educational system, particularly certain colleges of the University of Cambridge. They took on distinctive beliefs about clerical dress and in opposition to the episcopal system, particularly after the 1619 conclusions of the Synod of Dort they were resisted by the English bishops. They largely adopted Sabbatarianism in the 17th century, and were influenced by millennialism.\n",
            "question:\n",
            "What college was influenced by Puritan beliefs?\n",
            "gold answer: the University of Cambridge\n",
            "bert answer: university of cambridge\n",
            "\n",
            "context:\n",
            "Edwin Chadwick's 1829 article, \"Preventive police\" in the London Review, argued that prevention ought to be the primary concern of a police body, which was not the case in practice. The reason, argued Chadwick, was that \"A preventive police would act more immediately by placing difficulties in obtaining the objects of temptation.\" In contrast to a deterrent of punishment, a preventive police force would deter criminality by making crime cost-ineffective - \"crime doesn't pay\". In the second draft of his 1829 Police Act, the \"object\" of the new Metropolitan Police, was changed by Robert Peel to the \"principal object,\" which was the \"prevention of crime.\" Later historians would attribute the perception of England's \"appearance of orderliness and love of public order\" to the preventive principle entrenched in Peel's police system.\n",
            "question:\n",
            "Where was 'Preventive Police' published?\n",
            "gold answer: London Review\n",
            "bert answer: the london review\n",
            "\n",
            "context:\n",
            "An upgrade to Windows 8 known as Windows 8.1 was officially announced by Microsoft on May 14, 2013. Following a presentation devoted to the upgrade at Build 2013, a public beta version of the upgrade was released on June 26, 2013. Windows 8.1 was released to OEM hardware partners on August 27, 2013, and released publicly as a free download through Windows Store on October 17, 2013. Volume license customers and subscribers to MSDN Plus and TechNet Plus were initially unable to obtain the RTM version upon its release; a spokesperson said the policy was changed to allow Microsoft to work with OEMs \"to ensure a quality experience at general availability.\" However, after criticism, Microsoft reversed its decision and released the RTM build on MSDN and TechNet on September 9, 2013.\n",
            "question:\n",
            "When was Windows 8.1 introduced?\n",
            "gold answer: May 14, 2013\n",
            "bert answer: may 14, 2013\n",
            "\n",
            "context:\n",
            "Jonas Bronck (c. 1600–43) was a Swedish born emigrant from Komstad, Norra Ljunga parish in Småland, Sweden who arrived in New Netherland during the spring of 1639. He became the first recorded European settler in the area now known as the Bronx. He leased land from the Dutch West India Company on the neck of the mainland immediately north of the Dutch settlement in Harlem (on Manhattan island), and bought additional tracts from the local tribes. He eventually accumulated 500 acres (about 2 square km, or 3/4 of a square mile) between the Harlem River and the Aquahung, which became known as Bronck's River, or The Bronx. Dutch and English settlers referred to the area as Bronck's Land. The American poet William Bronk was a descendant of Pieter Bronck, either Jonas Bronck's son or his younger brother.\n",
            "question:\n",
            "How much land did Bronck eventually own?\n",
            "gold answer: 500 acres\n",
            "bert answer: 500 acres\n",
            "\n",
            "context:\n",
            "Backup and Restore, the backup component of Windows, is deprecated. It still ships with Windows 8 and continues to work on preset schedules, but is pushed to the background and can only be accessed through a Control Panel applet called \"Windows 7 File Recovery\".:76 Shadow Copy, a component of Windows Explorer that once saved previous versions of changed files, no longer protects local files and folders. It can only access previous versions of shared files stored on a Windows Server computer.:74 The subsystem on which these components worked, however, is still available for other software to use.:74\n",
            "question:\n",
            "What is :74 used for? \n",
            "gold answer: other software\n",
            "bert answer: available for other software to use\n",
            "\n",
            "context:\n",
            "Incubation, which optimises temperature for chick development, usually begins after the last egg has been laid. In monogamous species incubation duties are often shared, whereas in polygamous species one parent is wholly responsible for incubation. Warmth from parents passes to the eggs through brood patches, areas of bare skin on the abdomen or breast of the incubating birds. Incubation can be an energetically demanding process; adult albatrosses, for instance, lose as much as 83 grams (2.9 oz) of body weight per day of incubation. The warmth for the incubation of the eggs of megapodes comes from the sun, decaying vegetation or volcanic sources. Incubation periods range from 10 days (in woodpeckers, cuckoos and passerine birds) to over 80 days (in albatrosses and kiwis).\n",
            "question:\n",
            "When does incubation begin?\n",
            "gold answer: after the last egg has been laid\n",
            "bert answer: after the last egg has been laid\n",
            "\n",
            "context:\n",
            "Birds (Aves) are a group of endothermic vertebrates, characterised by feathers, toothless beaked jaws, the laying of hard-shelled eggs, a high metabolic rate, a four-chambered heart, and a lightweight but strong skeleton. Birds live worldwide and range in size from the 5 cm (2 in) bee hummingbird to the 2.75 m (9 ft) ostrich. They rank as the class of tetrapods with the most living species, at approximately ten thousand, with more than half of these being passerines, sometimes known as perching birds or, less accurately, as songbirds.\n",
            "question:\n",
            "What is the size of the smallest bird?\n",
            "gold answer: 5 cm (2 in)\n",
            "bert answer: ostrich\n",
            "\n",
            "context:\n",
            "In recent years a number of well-known tourism-related organizations have placed Greek destinations in the top of their lists. In 2009 Lonely Planet ranked Thessaloniki, the country's second-largest city, the world's fifth best \"Ultimate Party Town\", alongside cities such as Montreal and Dubai, while in 2011 the island of Santorini was voted as the best island in the world by Travel + Leisure. The neighbouring island of Mykonos was ranked as the 5th best island Europe. Thessaloniki was the European Youth Capital in 2014.\n",
            "question:\n",
            "What island was ranked as the 5th best in Europe?\n",
            "gold answer: Mykonos\n",
            "bert answer: mykonos\n",
            "\n",
            "context:\n",
            "Dwight David \"Ike\" Eisenhower (/ˈaɪzənˌhaʊ.ər/ EYE-zən-HOW-ər; October 14, 1890 – March 28, 1969) was an American politician and general who served as the 34th President of the United States from 1953 until 1961. He was a five-star general in the United States Army during World War II and served as Supreme Commander of the Allied Forces in Europe. He was responsible for planning and supervising the invasion of North Africa in Operation Torch in 1942–43 and the successful invasion of France and Germany in 1944–45 from the Western Front. In 1951, he became the first Supreme Commander of NATO.\n",
            "question:\n",
            "What was the name of the North African invasion Eisenhower oversaw?\n",
            "gold answer: Operation Torch\n",
            "bert answer: operation torch\n",
            "\n",
            "context:\n",
            "Jefferson and Madison's approach was not the only one taken in the eighteenth century. Jefferson's Statute of Religious Freedom was drafted in opposition to a bill, chiefly supported by Patrick Henry, which would permit any Virginian to belong to any denomination, but which would require him to belong to some denomination and pay taxes to support it. Similarly, the Constitution of Massachusetts originally provided that \"no subject shall be hurt, molested, or restrained, in his person, liberty, or estate, for worshipping God in the manner and season most agreeable to the dictates of his own conscience... provided he doth not disturb the public peace, or obstruct others in their religious worship,\" (Article II) but also that:\n",
            "question:\n",
            "What did Jefferson draft his Statute of Religious Freedom in opposition to?\n",
            "gold answer: a bill\n",
            "bert answer: a bill\n",
            "\n",
            "context:\n",
            "The location and terrain of Kathmandu have played a significant role in the development of a stable economy which spans millennia. The city is located in an ancient lake basin, with fertile soil and flat terrain. This geography helped form a society based on agriculture. This, combined with its location between India and China, helped establish Kathmandu as an important trading center over the centuries. Kathmandu's trade is an ancient profession that flourished along an offshoot of the Silk Road which linked India and Tibet. From centuries past, Lhasa Newar merchants of Kathmandu have conducted trade across the Himalaya and contributed to spreading art styles and Buddhism across Central Asia. Other traditional occupations are farming, metal casting, woodcarving, painting, weaving, and pottery.\n",
            "question:\n",
            "Existing between what two countries contributed to Kathmandu becoming a center of trade?\n",
            "gold answer: India and China\n",
            "bert answer: india and china\n",
            "\n",
            "context:\n",
            "Windows 8 introduces significant changes to the operating system's user interface, many of which are aimed at improving its experience on tablet computers and other touchscreen devices. The new user interface is based on Microsoft's Metro design language, and uses a Start screen similar to that of Windows Phone 7 as the primary means of launching applications. The Start screen displays a customizable array of tiles linking to various apps and desktop programs, some of which can display constantly updated information and content through \"live tiles\". As a form of multi-tasking, apps can be snapped to the side of a screen. Alongside the traditional Control Panel, a new simplified and touch-optimized settings app known as \"PC Settings\" is used for basic configuration and user settings. It does not include many of the advanced options still accessible from the normal Control Panel.\n",
            "question:\n",
            "What is found on the Start Screen?\n",
            "gold answer: a customizable array of tiles linking to various apps and desktop programs\n",
            "bert answer: a customizable array of tiles\n",
            "\n",
            "context:\n",
            "Due to the ratio of U.S. and Mexican-licensed stations, San Diego is the largest media market in the United States that is legally unable to support a television station duopoly between two full-power stations under FCC regulations, which disallow duopolies in metropolitan areas with fewer than nine full-power television stations and require that there must be eight unique station owners that remain once a duopoly is formed (there are only seven full-power stations on the California side of the San Diego-Tijuana market).[citation needed] Though the E. W. Scripps Company owns KGTV and KZSD-LP, they are not considered a duopoly under the FCC's legal definition as common ownership between full-power and low-power television stations in the same market is permitted regardless to the number of stations licensed to the area. As a whole, the Mexico side of the San Diego-Tijuana market has two duopolies and one triopoly (Entravision Communications owns both XHAS-TV and XHDTV-TV, Azteca owns XHJK-TV and XHTIT-TV, and Grupo Televisa owns XHUAA-TV and XHWT-TV along with being the license holder for XETV-TV, which is run by California-based subsidiary Bay City Television).\n",
            "question:\n",
            "Which station is ran by Bay City Television?\n",
            "gold answer: XETV-TV\n",
            "bert answer: xetv - tv\n",
            "\n",
            "context:\n",
            "Though women were protected by late Sumerian law and were able to achieve a higher status in Sumer than in other contemporary civilizations, the culture was male-dominated. The Code of Ur-Nammu, the oldest such codification yet discovered, dating to the Ur-III \"Sumerian Renaissance\", reveals a glimpse at societal structure in late Sumerian law. Beneath the lu-gal (\"great man\" or king), all members of society belonged to one of two basic strata: The \"lu\" or free person, and the slave (male, arad; female geme). The son of a lu was called a dumu-nita until he married. A woman (munus) went from being a daughter (dumu-mi), to a wife (dam), then if she outlived her husband, a widow (numasu) and she could then remarry.\n",
            "question:\n",
            "How many strata existed in Sumerian society?\n",
            "gold answer: two\n",
            "bert answer: two\n",
            "\n",
            "context:\n",
            "The use of the phrases as summaries of teaching emerged over time during the Reformation, based on the overarching principle of sola scriptura (by scripture alone). This idea contains the four main doctrines on the Bible: that its teaching is needed for salvation (necessity); that all the doctrine necessary for salvation comes from the Bible alone (sufficiency); that everything taught in the Bible is correct (inerrancy); and that, by the Holy Spirit overcoming sin, believers may read and understand truth from the Bible itself, though understanding is difficult, so the means used to guide individual believers to the true teaching is often mutual discussion within the church (clarity).\n",
            "question:\n",
            "What power can help someone overcome sin?\n",
            "gold answer: the Holy Spirit\n",
            "bert answer: holy spirit\n",
            "\n",
            "context:\n",
            "Among the first to study Russian dialects was Lomonosov in the 18th century. In the 19th, Vladimir Dal compiled the first dictionary that included dialectal vocabulary. Detailed mapping of Russian dialects began at the turn of the 20th century. In modern times, the monumental Dialectological Atlas of the Russian Language (Диалектологический атлас русского языка [dʲɪɐˌlʲɛktəlɐˈɡʲitɕɪskʲɪj ˈatləs ˈruskəvə jɪzɨˈka]), was published in three folio volumes 1986–1989, after four decades of preparatory work.\n",
            "question:\n",
            "In what century was the first dialectal Russian dictionary published?\n",
            "gold answer: 19th\n",
            "bert answer: 19th\n",
            "\n",
            "context:\n",
            "The economic output of the metropolitan area alone is worth more than one third of national GDP around $6.5billion in terms of nominal GDP NR.s 550 billion approximately per year $2200 per capital income approx three times national average. Kathmandu exports handicrafts, artworks, garments, carpets, pashmina, paper; trade accounts for 21% of its finances.[which?] Manufacturing is also important and accounts for 19% of the revenue that Kathmandu generates. Garments and woolen carpets are the most notable manufactured products. Other economic sectors in Kathmandu include agriculture (9%), education (6%), transport (6%), and hotels and restaurants (5%). Kathmandu is famous for lokta paper and pashmina shawls.\n",
            "question:\n",
            "What percentage of Kathmandu's economy is trade?\n",
            "gold answer: 21\n",
            "bert answer: 21 %\n",
            "\n",
            "context:\n",
            "Indigenous genetic studies suggest that the first inhabitants of the Americas share a single ancestral population, one that developed in isolation, conjectured to be Beringia. The isolation of these peoples in Beringia might have lasted 10–20,000 years. Around 16,500 years ago, the glaciers began melting, allowing people to move south and east into Canada and beyond. These people are believed to have followed herds of now-extinct Pleistocene megafauna along ice-free corridors that stretched between the Laurentide and Cordilleran Ice Sheets.\n",
            "question:\n",
            "Where did the single ancestral population of all the indigenous peoples of the Americas likely develop?\n",
            "gold answer: in isolation\n",
            "bert answer: beringia\n",
            "\n",
            "context:\n",
            "The best known work of fiction from the Islamic world is One Thousand and One Nights (In Persian: hezār-o-yek šab > Arabic: ʔalf-layl-at-wa-l’-layla= One thousand Night and (one) Night) or *Arabian Nights, a name invented by early Western translators, which is a compilation of folk tales from Sanskrit, Persian, and later Arabian fables. The original concept is derived from a pre-Islamic Persian prototype Hezār Afsān (Thousand Fables) that relied on particular Indian elements. It reached its final form by the 14th century; the number and type of tales have varied from one manuscript to another. All Arabian fantasy tales tend to be called Arabian Nights stories when translated into English, regardless of whether they appear in The Book of One Thousand and One Nights or not. This work has been very influential in the West since it was translated in the 18th century, first by Antoine Galland. Imitations were written, especially in France. Various characters from this epic have themselves become cultural icons in Western culture, such as Aladdin, Sinbad the Sailor and Ali Baba.\n",
            "question:\n",
            "Who was the first westerner to translate One Thousand and One Nights?\n",
            "gold answer: Antoine Galland\n",
            "bert answer: antoine galland\n",
            "\n"
          ],
          "name": "stdout"
        }
      ]
    },
    {
      "cell_type": "markdown",
      "metadata": {
        "id": "W79U9WvOaEaq"
      },
      "source": [
        "# Conclusion \n",
        "In this application, we implemented the brilliant BERT model for predicting the answers of the questions. They are a lots of alternatives for doing this task. For example:\n",
        "\n",
        "\n",
        "1.   RoBERTa by Facebook\n",
        "2.   ALBERT by Google\n",
        "3.   DistilBERT by Hugging Face\n",
        "4.   ...\n",
        "\n",
        "BERT is undoubtedly a breakthrough in the use of Machine Learning for Natural Language Processing. The fact that it’s approachable and allows fast fine-tuning will likely allow a wide range of practical applications in the future. It's technically easy to implement, but empirically so strong.\n"
      ]
    }
  ]
}